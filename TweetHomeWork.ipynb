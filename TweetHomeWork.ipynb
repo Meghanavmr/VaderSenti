{
 "cells": [
  {
   "cell_type": "code",
   "execution_count": 1,
   "metadata": {},
   "outputs": [],
   "source": [
    "# Dependencies\n",
    "import tweepy\n",
    "import numpy as np\n",
    "import pandas as pd\n",
    "from datetime import datetime\n",
    "import matplotlib.pyplot as plt\n",
    "from matplotlib import style\n",
    "style.use('ggplot')\n",
    "\n",
    "# Import and Initialize Sentiment Analyzer\n",
    "from vaderSentiment.vaderSentiment import SentimentIntensityAnalyzer\n",
    "analyzer = SentimentIntensityAnalyzer()\n",
    "\n",
    "# Twitter API Keys\n",
    "from config import (consumer_key,\n",
    "                    consumer_secret,\n",
    "                    access_token,\n",
    "                    access_token_secret)\n",
    "\n",
    "# Setup Tweepy API Authentication\n",
    "auth = tweepy.OAuthHandler(consumer_key, consumer_secret)\n",
    "auth.set_access_token(access_token, access_token_secret)\n",
    "api = tweepy.API(auth, parser=tweepy.parsers.JSONParser())"
   ]
  },
  {
   "cell_type": "code",
   "execution_count": 11,
   "metadata": {},
   "outputs": [
    {
     "name": "stdout",
     "output_type": "stream",
     "text": [
      "\n",
      "User: @BBCNews\n",
      "Compound: -0.071525\n",
      "Positive: 0.07165\n",
      "Neutral: 0.8099999999999998\n",
      "Negative: 0.11835\n",
      "\n",
      "User: @CNN\n",
      "Compound: -0.11983\n",
      "Positive: 0.04215\n",
      "Neutral: 0.8541999999999998\n",
      "Negative: 0.10375000000000002\n",
      "\n",
      "User: @CBS\n",
      "Compound: 0.246585\n",
      "Positive: 0.14375\n",
      "Neutral: 0.8117999999999997\n",
      "Negative: 0.04455\n",
      "\n",
      "User: @FOXNEWS\n",
      "Compound: -0.08391499999999999\n",
      "Positive: 0.0613\n",
      "Neutral: 0.8492500000000001\n",
      "Negative: 0.08945\n",
      "\n",
      "User: @nytimes\n",
      "Compound: -0.05966499999999998\n",
      "Positive: 0.08134999999999999\n",
      "Neutral: 0.8236000000000001\n",
      "Negative: 0.09505\n"
     ]
    }
   ],
   "source": [
    "# Target User Account\n",
    "target_user = (\"@BBCNews\", \"@CNN\", \"@CBS\",\"@FOXNEWS\",\"@nytimes\")\n",
    "\n",
    "df = pd.DataFrame ({'Media':[\"BBC\",\"CNN\",\"CBS\",\"FOX\",\"NYT\"],\n",
    "                'Polatity':[0,0,0,0,0]})\n",
    "\n",
    "# Loop through each user\n",
    "for user in target_user:\n",
    "\n",
    "    # Variables for holding sentiments\n",
    "    compound_list = []\n",
    "    positive_list = []\n",
    "    negative_list = []\n",
    "    neutral_list = []\n",
    "\n",
    "    # Loop through 10 pages of tweets (total 100 tweets)\n",
    "    for x in range(5):\n",
    "\n",
    "        # Get all tweets from home feed\n",
    "        public_tweets = api.user_timeline(user)\n",
    "\n",
    "        # Loop through all tweets\n",
    "        for tweet in public_tweets:\n",
    "\n",
    "            # Run Vader Analysis on each tweet\n",
    "            compound = analyzer.polarity_scores(tweet[\"text\"])[\"compound\"]\n",
    "            pos = analyzer.polarity_scores(tweet[\"text\"])[\"pos\"]\n",
    "            neu = analyzer.polarity_scores(tweet[\"text\"])[\"neu\"]\n",
    "            neg = analyzer.polarity_scores(tweet[\"text\"])[\"neg\"]\n",
    "\n",
    "            # Add each value to the appropriate array\n",
    "            compound_list.append(compound)\n",
    "            positive_list.append(pos)\n",
    "            negative_list.append(neg)\n",
    "            neutral_list.append(neu)\n",
    "    \n",
    "#     Polarity = {\"Airline\": target,\n",
    "#                  \"compound\": np.mean(compound_list),\n",
    "#                  \"Positive\": np.mean(positive_list),\n",
    "#                  \"Negative\": np.mean(negative_list),\n",
    "#                  \"Neutral\": np.mean(neutral_list)\n",
    "                \n",
    "                \n",
    "                \n",
    "#                 }\n",
    "\n",
    "    # Print the Averages\n",
    "    print(\"\")\n",
    "    print(\"User: %s\" % user)\n",
    "    print(\"Compound: %s\" % np.mean(compound_list))\n",
    "    print(\"Positive: %s\" % np.mean(positive_list))\n",
    "    print(\"Neutral: %s\" % np.mean(neutral_list))\n",
    "    print(\"Negative: %s\" % np.mean(negative_list))\n",
    "    df.head(5)"
   ]
  },
  {
   "cell_type": "code",
   "execution_count": 4,
   "metadata": {},
   "outputs": [
    {
     "data": {
      "image/png": "[encoded data removed]",
      "text/plain": [
       "<matplotlib.figure.Figure at 0x2df7b18a668>"
      ]
     },
     "metadata": {},
     "output_type": "display_data"
    }
   ],
   "source": [
    "# Create plot\n",
    "# YOUR CODE HERE\n",
    "\n",
    "# # Incorporate the other graph properties\n",
    "now = datetime.now()\n",
    "now = now.strftime(\"%Y-%m-%d %H:%M\")\n",
    "plt.title(f\"Sentiment Analysis of Media Tweets ({now})\")\n",
    "plt.ylabel(\"Tweet Polarity\")\n",
    "plt.xlabel(\"Tweets Ago\")\n",
    "plt.x = compound_list\n",
    "plt.y = \n",
    "plt.show()"
   ]
  },
  {
   "cell_type": "code",
   "execution_count": null,
   "metadata": {},
   "outputs": [],
   "source": []
  }
 ],
 "metadata": {
  "kernelspec": {
   "display_name": "Python 3",
   "language": "python",
   "name": "python3"
  },
  "language_info": {
   "codemirror_mode": {
    "name": "ipython",
    "version": 3
   },
   "file_extension": ".py",
   "mimetype": "text/x-python",
   "name": "python",
   "nbconvert_exporter": "python",
   "pygments_lexer": "ipython3",
   "version": "3.6.4"
  }
 },
 "nbformat": 4,
 "nbformat_minor": 2
}
